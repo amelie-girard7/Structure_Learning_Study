{
 "cells": [
  {
   "attachments": {},
   "cell_type": "markdown",
   "metadata": {
    "collapsed": false
   },
   "source": [
    "# Plot benchmark results\n",
    "\n",
    "In this notebook can be used to generate benchmark environments as found in the ABCI paper."
   ]
  },
  {
   "cell_type": "code",
   "execution_count": 1,
   "metadata": {
    "collapsed": true,
    "pycharm": {
     "name": "#%% imports\n"
    }
   },
   "outputs": [],
   "source": [
    "%reload_ext autoreload\n",
    "%autoreload 2\n",
    "\n",
    "import matplotlib.pyplot as plt\n",
    "from matplotlib.ticker import MaxNLocator\n",
    "\n",
    "from src.utils.plotting import init_plot_style, Simulation"
   ]
  },
  {
   "cell_type": "code",
   "execution_count": 2,
   "metadata": {
    "collapsed": false,
    "pycharm": {
     "name": "#%% load data\n"
    }
   },
   "outputs": [
    {
     "ename": "FileNotFoundError",
     "evalue": "[Errno 2] No such file or directory: '../results/CRGraph/5_nodes/20220728_0022_abci-dibs-gp_observational/'",
     "output_type": "error",
     "traceback": [
      "\u001b[0;31m---------------------------------------------------------------------------\u001b[0m",
      "\u001b[0;31mFileNotFoundError\u001b[0m                         Traceback (most recent call last)",
      "Cell \u001b[0;32mIn[2], line 21\u001b[0m\n\u001b[1;32m     17\u001b[0m stats_names \u001b[39m=\u001b[39m [\u001b[39m'\u001b[39m\u001b[39meshd\u001b[39m\u001b[39m'\u001b[39m, \u001b[39m'\u001b[39m\u001b[39mgraph_ll\u001b[39m\u001b[39m'\u001b[39m, \u001b[39m'\u001b[39m\u001b[39mgraph_entropy\u001b[39m\u001b[39m'\u001b[39m, \u001b[39m'\u001b[39m\u001b[39mauroc\u001b[39m\u001b[39m'\u001b[39m, \u001b[39m'\u001b[39m\u001b[39mauprc\u001b[39m\u001b[39m'\u001b[39m, \u001b[39m'\u001b[39m\u001b[39mobservational_test_ll\u001b[39m\u001b[39m'\u001b[39m, \u001b[39m'\u001b[39m\u001b[39mobservational_kld\u001b[39m\u001b[39m'\u001b[39m,\n\u001b[1;32m     18\u001b[0m                \u001b[39m'\u001b[39m\u001b[39minterventional_test_ll\u001b[39m\u001b[39m'\u001b[39m, \u001b[39m'\u001b[39m\u001b[39minterventional_kld\u001b[39m\u001b[39m'\u001b[39m, \u001b[39m'\u001b[39m\u001b[39mquery_kld\u001b[39m\u001b[39m'\u001b[39m]\n\u001b[1;32m     20\u001b[0m \u001b[39mfor\u001b[39;00m sim \u001b[39min\u001b[39;00m simulations:\n\u001b[0;32m---> 21\u001b[0m     sim\u001b[39m.\u001b[39;49mload_results(stats_names)\n",
      "File \u001b[0;32m~/Documents/GitHub/Structure_Learning_Study/reading_group/sessions/2023_07_10/source_code/src/utils/plotting.py:86\u001b[0m, in \u001b[0;36mSimulation.load_results\u001b[0;34m(self, stats_names, base_dir)\u001b[0m\n\u001b[1;32m     85\u001b[0m \u001b[39mdef\u001b[39;00m \u001b[39mload_results\u001b[39m(\u001b[39mself\u001b[39m, stats_names: List[\u001b[39mstr\u001b[39m], base_dir: \u001b[39mstr\u001b[39m \u001b[39m=\u001b[39m \u001b[39m'\u001b[39m\u001b[39m../results/\u001b[39m\u001b[39m'\u001b[39m):\n\u001b[0;32m---> 86\u001b[0m     common_env_files \u001b[39m=\u001b[39m \u001b[39mself\u001b[39;49m\u001b[39m.\u001b[39;49mget_result_files(base_dir)\n\u001b[1;32m     87\u001b[0m     num_environments \u001b[39m=\u001b[39m \u001b[39mlen\u001b[39m(common_env_files)\n\u001b[1;32m     88\u001b[0m     \u001b[39mprint\u001b[39m(\u001b[39mf\u001b[39m\u001b[39m'\u001b[39m\u001b[39mLoading results from \u001b[39m\u001b[39m{\u001b[39;00mnum_environments\u001b[39m}\u001b[39;00m\u001b[39m environments.\u001b[39m\u001b[39m'\u001b[39m)\n",
      "File \u001b[0;32m~/Documents/GitHub/Structure_Learning_Study/reading_group/sessions/2023_07_10/source_code/src/utils/plotting.py:69\u001b[0m, in \u001b[0;36mSimulation.get_result_files\u001b[0;34m(self, base_dir)\u001b[0m\n\u001b[1;32m     66\u001b[0m \u001b[39mdef\u001b[39;00m \u001b[39mget_result_files\u001b[39m(\u001b[39mself\u001b[39m, base_dir: \u001b[39mstr\u001b[39m \u001b[39m=\u001b[39m \u001b[39m'\u001b[39m\u001b[39m../results/\u001b[39m\u001b[39m'\u001b[39m):\n\u001b[1;32m     67\u001b[0m     results_dir \u001b[39m=\u001b[39m base_dir \u001b[39m+\u001b[39m \u001b[39mf\u001b[39m\u001b[39m'\u001b[39m\u001b[39m{\u001b[39;00m\u001b[39mself\u001b[39m\u001b[39m.\u001b[39menv_name\u001b[39m}\u001b[39;00m\u001b[39m/\u001b[39m\u001b[39m{\u001b[39;00m\u001b[39mself\u001b[39m\u001b[39m.\u001b[39mnum_nodes\u001b[39m}\u001b[39;00m\u001b[39m_nodes/\u001b[39m\u001b[39m'\u001b[39m \\\n\u001b[1;32m     68\u001b[0m                              \u001b[39mf\u001b[39m\u001b[39m'\u001b[39m\u001b[39m{\u001b[39;00m\u001b[39mself\u001b[39m\u001b[39m.\u001b[39mtimestamp\u001b[39m}\u001b[39;00m\u001b[39m_\u001b[39m\u001b[39m{\u001b[39;00m\u001b[39mself\u001b[39m\u001b[39m.\u001b[39mabci_model\u001b[39m}\u001b[39;00m\u001b[39m_\u001b[39m\u001b[39m{\u001b[39;00m\u001b[39mself\u001b[39m\u001b[39m.\u001b[39mpolicy\u001b[39m}\u001b[39;00m\u001b[39m/\u001b[39m\u001b[39m'\u001b[39m\n\u001b[0;32m---> 69\u001b[0m     abci_files \u001b[39m=\u001b[39m [entry \u001b[39mfor\u001b[39;00m entry \u001b[39min\u001b[39;00m os\u001b[39m.\u001b[39;49mscandir(results_dir) \u001b[39mif\u001b[39;00m\n\u001b[1;32m     70\u001b[0m                   entry\u001b[39m.\u001b[39mis_file() \u001b[39mand\u001b[39;00m os\u001b[39m.\u001b[39mpath\u001b[39m.\u001b[39mbasename(entry)[\u001b[39m-\u001b[39m\u001b[39m4\u001b[39m:] \u001b[39m==\u001b[39m \u001b[39m'\u001b[39m\u001b[39m.pth\u001b[39m\u001b[39m'\u001b[39m]\n\u001b[1;32m     72\u001b[0m     common_env_files \u001b[39m=\u001b[39m \u001b[39mdict\u001b[39m()\n\u001b[1;32m     73\u001b[0m     \u001b[39mfor\u001b[39;00m f \u001b[39min\u001b[39;00m abci_files:\n",
      "\u001b[0;31mFileNotFoundError\u001b[0m: [Errno 2] No such file or directory: '../results/CRGraph/5_nodes/20220728_0022_abci-dibs-gp_observational/'"
     ]
    }
   ],
   "source": [
    "# the simulations you want to plot/compare\n",
    "simulations = []\n",
    "simulations.append(Simulation('CRGraph', 5, '20220728_0022', 'abci-dibs-gp', 'observational',\n",
    "                              num_experiments=50, plot_kwargs={'label':'OBS', 'marker':'s', 'c':'Plum'}))\n",
    "simulations.append(Simulation('CRGraph', 5, '20221005_1523', 'abci-dibs-gp', 'scm-info-gain',\n",
    "                              num_experiments=50, plot_kwargs={'label':'RAND-FIXED', 'marker':'+', 'c':'DarkTurquoise'}))\n",
    "simulations.append(Simulation('CRGraph', 5, '20220728_0022', 'abci-dibs-gp', 'random',\n",
    "                              num_experiments=50, plot_kwargs={'label':'RAND', 'marker':'^', 'c':'Goldenrod'}))\n",
    "simulations.append(Simulation('CRGraph', 5, '20220728_0025', 'abci-dibs-gp', 'graph-info-gain',\n",
    "                              num_experiments=50, plot_kwargs={'label':r'$\\text{U}_\\text{CD}$', 'marker':'o', 'c':'MediumSeaGreen'}))\n",
    "simulations.append(Simulation('CRGraph', 5, '20220728_0025', 'abci-dibs-gp', 'scm-info-gain',\n",
    "                              num_experiments=50, plot_kwargs={'label':r'$\\text{U}_\\text{CML}$', 'marker':'x', 'c':'Tomato'}))\n",
    "simulations.append(Simulation('CRGraph', 5, '20220728_0022', 'abci-dibs-gp', 'intervention-info-gain',\n",
    "                              num_experiments=50, plot_kwargs={'label':r'$\\text{U}_\\text{CR}$', 'marker':'*', 'c':'CornflowerBlue'}))\n",
    "\n",
    "# the stats to extract from the simulation results\n",
    "stats_names = ['eshd', 'graph_ll', 'graph_entropy', 'auroc', 'auprc', 'observational_test_ll', 'observational_kld',\n",
    "               'interventional_test_ll', 'interventional_kld', 'query_kld']\n",
    "\n",
    "for sim in simulations:\n",
    "    sim.load_results(stats_names)"
   ]
  },
  {
   "cell_type": "code",
   "execution_count": null,
   "metadata": {
    "collapsed": false,
    "pycharm": {
     "name": "#%% init plot params\n"
    }
   },
   "outputs": [],
   "source": [
    "init_plot_style()\n",
    "\n",
    "save_plots = False\n",
    "dpi = 600\n",
    "fig_format = 'png'\n",
    "fig_dir = '../figures/'\n",
    "figdate = '20230101'\n",
    "fig_name = 'CRGraph-5'\n",
    "\n",
    "# axis labels for the given stats\n",
    "stat_labels = {'eshd': 'Expected SHD', 'graph_ll': 'Graph KLD', 'graph_entropy': 'Graph Entropy', 'auroc': 'AUROC',\n",
    "               'auprc':'AUPRC', 'observational_test_ll': 'NLL of Observational Test Data',\n",
    "               'interventional_test_ll': 'NLL of Interventional Test Data', 'observational_kld': 'Observational KLD',\n",
    "               'interventional_kld': 'Avg. Interventional KLD', 'query_kld': 'Query KLD'}\n",
    "# file identifier token for the given stats\n",
    "stat_tokens = {'eshd': 'ESHD', 'graph_ll': 'GRAPH-KLD', 'graph_entropy': 'Graph Entropy', 'auroc': 'AUROC',\n",
    "               'auprc':'AUPRC', 'observational_test_ll': 'OBS-NLL','interventional_test_ll':'INTR-NLL',\n",
    "               'observational_kld': 'OBS-KLD', 'interventional_kld': 'AVG-INTR-KLD', 'query_kld':'QUERY-KLD'}\n"
   ]
  },
  {
   "cell_type": "code",
   "execution_count": null,
   "metadata": {
    "collapsed": false,
    "pycharm": {
     "name": "#%% plot single stat\n"
    }
   },
   "outputs": [],
   "source": [
    "stat_name =  'eshd'\n",
    "\n",
    "# plot stats over experiments\n",
    "ax = plt.figure(figsize=(36,12)).gca()\n",
    "for sim in simulations:\n",
    "    sim.plot_simulation_data(ax, stat_name)\n",
    "plt.xlabel('Number of Experiments')\n",
    "plt.ylabel(stat_labels[stat_name])\n",
    "ax.xaxis.set_major_locator(MaxNLocator(integer=True))\n",
    "plt.legend(loc='lower center', bbox_to_anchor=(0.5, -0.4), ncol=len(simulations))\n",
    "plt.xlim([0.8, simulations[0].stats[stat_name].shape[-1] + 0.2])\n",
    "plt.tight_layout()\n",
    "\n",
    "if save_plots:\n",
    "    plt.savefig(fig_dir + f'{figdate}-{fig_name}-{stat_tokens[stat_name]}.{fig_format}', dpi = dpi, bbox_inches='tight')\n"
   ]
  },
  {
   "cell_type": "code",
   "execution_count": null,
   "metadata": {
    "collapsed": false,
    "pycharm": {
     "name": "#%% plot multiple stats\n"
    }
   },
   "outputs": [],
   "source": [
    "\n",
    "# CRGraph\n",
    "stats_names = ['eshd', 'interventional_kld', 'query_kld']\n",
    "yranges = [[-0.2, 4.], [0.5, 6.], [-0.05, 1.1]]\n",
    "\n",
    "# plot entropy of graph posterior\n",
    "fig, axs = plt.subplots(1, 3, figsize=(36,9))\n",
    "for i, stat_name in enumerate(stats_names):\n",
    "    for sim in simulations:\n",
    "        sim.plot_simulation_data(axs[i], stat_name)\n",
    "\n",
    "    axs[i].set_title(stat_labels[stat_name], loc='center', y=1.01)\n",
    "    # format x axis\n",
    "    axs[i].set_xlim([0.8, simulations[0].stats[stat_name].shape[-1] + 0.2])\n",
    "    axs[i].xaxis.set_major_locator(MaxNLocator(10,integer=True))\n",
    "\n",
    "    # format y axis\n",
    "    axs[i].set_ylim(yranges[i])\n",
    "\n",
    "\n",
    "axs[1].set_xlabel('Number of Experiments')\n",
    "axs[0].legend(loc='lower left', bbox_to_anchor=(0.1, -0.4), ncol=len(simulations), frameon=False)\n",
    "\n",
    "if save_plots:\n",
    "    plt.savefig(fig_dir + f'{figdate}-{fig_name}-MIXED-STATS.{fig_format}', dpi = dpi, bbox_inches='tight')\n"
   ]
  },
  {
   "cell_type": "code",
   "execution_count": null,
   "metadata": {
    "collapsed": false,
    "pycharm": {
     "name": "#%% load a second set of simulations to be compared with the first set of simulations (e.g., comparing different envs)\n"
    }
   },
   "outputs": [],
   "source": [
    "# the simulations you want to plot/compare\n",
    "simulations2 = []\n",
    "simulations2.append(Simulation('CRGraph', 5, '20220728_0022', 'abci-dibs-gp', 'observational',\n",
    "                              num_experiments=50, plot_kwargs={'label':'OBS', 'marker':'s', 'c':'Plum'}))\n",
    "simulations2.append(Simulation('CRGraph', 5, '20221005_1523', 'abci-dibs-gp', 'scm-info-gain',\n",
    "                              num_experiments=50, plot_kwargs={'label':'RAND-FIXED', 'marker':'+', 'c':'DarkTurquoise'}))\n",
    "simulations2.append(Simulation('CRGraph', 5, '20220728_0022', 'abci-dibs-gp', 'random',\n",
    "                              num_experiments=50, plot_kwargs={'label':'RAND', 'marker':'^', 'c':'Goldenrod'}))\n",
    "simulations2.append(Simulation('CRGraph', 5, '20220728_0025', 'abci-dibs-gp', 'graph-info-gain',\n",
    "                              num_experiments=50, plot_kwargs={'label':r'$\\text{U}_\\text{CD}$', 'marker':'o', 'c':'MediumSeaGreen'}))\n",
    "simulations2.append(Simulation('CRGraph', 5, '20220728_0025', 'abci-dibs-gp', 'scm-info-gain',\n",
    "                              num_experiments=50, plot_kwargs={'label':r'$\\text{U}_\\text{CML}$', 'marker':'x', 'c':'Tomato'}))\n",
    "simulations2.append(Simulation('CRGraph', 5, '20220728_0022', 'abci-dibs-gp', 'intervention-info-gain',\n",
    "                              num_experiments=50, plot_kwargs={'label':r'$\\text{U}_\\text{CR}$', 'marker':'*', 'c':'CornflowerBlue'}))\n",
    "\n",
    "for sim in simulations2:\n",
    "    sim.load_results(stats_names)"
   ]
  },
  {
   "cell_type": "code",
   "execution_count": null,
   "metadata": {
    "collapsed": false,
    "pycharm": {
     "name": "#%% plot single stat for two different sets of simulations\n"
    }
   },
   "outputs": [],
   "source": [
    "stat_name = 'query_kld'\n",
    "yranges = [[-0.05, 1.0], [-0.05, 1.0]]\n",
    "\n",
    "# plot entropy of graph posterior\n",
    "fig, axs = plt.subplots(1, 2, figsize=(36,13), sharey=True)\n",
    "for i, sims in enumerate((simulations, simulations2)):\n",
    "    for sim in sims:\n",
    "        sim.plot_simulation_data(axs[i], stat_name)\n",
    "\n",
    "    # format x axis\n",
    "    axs[i].set_xlim([0.8, simulations[0].stats[stat_name].shape[-1] + 0.2])\n",
    "    axs[i].xaxis.set_major_locator(MaxNLocator(10,integer=True))\n",
    "\n",
    "    # format y axis\n",
    "    axs[i].set_ylim(yranges[i])\n",
    "\n",
    "\n",
    "axs[0].set_xlabel('Number of Experiments')\n",
    "axs[0].legend(loc='lower left', bbox_to_anchor=(0.75, -0.25), ncol=len(simulations), frameon=False)\n",
    "plt.tight_layout()\n",
    "plt.subplots_adjust(wspace=0.05)\n",
    "\n",
    "if save_plots:\n",
    "    plt.savefig(fig_dir + f'{figdate}-{fig_name}-QUERY_KLD.{fig_format}', dpi = dpi, bbox_inches='tight')\n"
   ]
  },
  {
   "cell_type": "code",
   "execution_count": null,
   "metadata": {},
   "outputs": [],
   "source": []
  },
  {
   "cell_type": "code",
   "execution_count": null,
   "metadata": {},
   "outputs": [],
   "source": []
  }
 ],
 "metadata": {
  "kernelspec": {
   "display_name": "Python 3",
   "language": "python",
   "name": "python3"
  },
  "language_info": {
   "codemirror_mode": {
    "name": "ipython",
    "version": 3
   },
   "file_extension": ".py",
   "mimetype": "text/x-python",
   "name": "python",
   "nbconvert_exporter": "python",
   "pygments_lexer": "ipython3",
   "version": "3.10.12"
  }
 },
 "nbformat": 4,
 "nbformat_minor": 0
}
