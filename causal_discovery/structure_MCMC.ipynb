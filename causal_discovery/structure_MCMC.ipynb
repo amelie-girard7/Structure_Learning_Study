{
 "cells": [
  {
   "cell_type": "markdown",
   "metadata": {},
   "source": [
    "# Structure MCMC"
   ]
  },
  {
   "cell_type": "markdown",
   "metadata": {},
   "source": [
    "## Theory"
   ]
  },
  {
   "cell_type": "markdown",
   "metadata": {},
   "source": [
    "## Algorithm"
   ]
  },
  {
   "cell_type": "markdown",
   "metadata": {},
   "source": [
    "Pseudocode for implementing the Metropolis-Hastings algorithm for structure learning in graphs:\n",
    "\n",
    "```python\n",
    "Initialize a graph G\n",
    "For a set number of iterations do:\n",
    "    Propose a new graph G' by making a small random change to G\n",
    "    Calculate the acceptance probability A(G, G') as follows:\n",
    "       Compute the posterior probabilities P(G | D) and P(G' | D)\n",
    "       if the proposal distribution is symmetric:\n",
    "          A(G, G') = min(1, P(G' | D) / P(G | D))\n",
    "       else:\n",
    "           Compute the proposal probabilities Q(G | G') and Q(G' | G)\n",
    "           A(G, G') = min(1, [P(G' | D) * Q(G | G')] / [P(G | D) * Q(G' | G)])\n",
    "    Generate a random number u from a uniform distribution between 0 and 1\n",
    "       if u < A(G, G'), accept the proposed graph: G = G'\n",
    "return the final graph G\n",
    "```\n",
    "\n"
   ]
  },
  {
   "cell_type": "markdown",
   "metadata": {},
   "source": [
    "## Implementation"
   ]
  },
  {
   "cell_type": "code",
   "execution_count": null,
   "metadata": {},
   "outputs": [],
   "source": [
    "import pandas as pd\n",
    "import numpy as np\n",
    "import networkx as nx\n",
    "\n",
    "import random"
   ]
  },
  {
   "cell_type": "code",
   "execution_count": null,
   "metadata": {},
   "outputs": [],
   "source": [
    "\n",
    "# create a fully connected graph\n",
    "# todo: add PC algo here\n",
    "def compute_initial_graph( data : pd.DataFrame ):\n",
    "    # initialize the graph\n",
    "    graph = nx.DiGraph()\n",
    "    \n",
    "    # add all nodes\n",
    "    graph.add_nodes_from(data.columns)\n",
    "    \n",
    "    # add all edges\n",
    "    graph.add_edges_from( list( data.columns ) )\n",
    "    return graph\n",
    "\n",
    "# todo: check after adding, reversing or deleting an edge, if the graph is still a DAG\n",
    "def propose_new_graph(G : nx.DiGraph):\n",
    "    G_prime = G.copy()\n",
    "\n",
    "    # Get a list of the graphs edges and non-edges\n",
    "    edges = list(G_prime.edges)\n",
    "    non_edges = list(nx.non_edges(G_prime))\n",
    "\n",
    "    # List of possible operations\n",
    "    operations = []\n",
    "    if non_edges:\n",
    "        operations.append(\"add_edge\")\n",
    "    if edges:\n",
    "        operations.append(\"delete_edge\")\n",
    "        operations.append(\"reverse_edge\")\n",
    "\n",
    "    # Choose a single random operation\n",
    "    operation = random.choice(operations)\n",
    "\n",
    "    if operation == \"add_edge\":\n",
    "        i, j = random.choice(non_edges)\n",
    "        G_prime.add_edge(i, j)\n",
    "        return G_prime\n",
    "    \n",
    "    if operation == \"delete_edge\":\n",
    "        i, j = random.choice(edges)\n",
    "        G_prime.remove_edge(i, j)\n",
    "        return G_prime\n",
    "    \n",
    "    # reverse_edge\n",
    "    i, j = random.choice(edges)\n",
    "    G_prime.remove_edge(i, j)\n",
    "    G_prime.add_edge(j, i)\n",
    "\n",
    "    return G_prime\n",
    "\n",
    "\n",
    "\n",
    "def compute_posterior( graph : nx.DiGraph, data : pd.DataFrame ):\n",
    "    \n",
    "    pass\n",
    "\n",
    "def compute_symmetry( graph : nx.DiGraph, graph_prime : nx.DiGraph ):\n",
    "    \n",
    "    pass\n",
    "\n",
    "    \n",
    "def metropolis_hastings(data : pd.DataFrame, iterations : int):\n",
    "    \n",
    "    # Initialize the graph\n",
    "    G = compute_initial_graph( data )\n",
    "\n",
    "    proposed_G_prime = propose_new_graph( G )\n",
    "    graph_posterior = compute_posterior( G, data)\n",
    "    is_symmetric = compute_symmetry(G, G_prime)\n",
    "\n",
    "    for _ in range(iterations):\n",
    "        # Propose a new graph\n",
    "        G_prime = propose_new_graph(G)\n",
    "\n",
    "        # Calculate the acceptance probability\n",
    "        posterior_G = compute_posterior(G, data)\n",
    "        posterior_G_prime = compute_posterior(G_prime, data)\n",
    "\n",
    "        if is_symmetric(G, G_prime):\n",
    "            # A(G, G') = min(1, P(G' | D) / P(G | D))\n",
    "            A = min(1, posterior_G_prime / posterior_G)\n",
    "        else:\n",
    "            #  Compute the proposal probabilities Q(G | G') and Q(G' | G)\n",
    "            #  A(G, G') = min(1, [P(G' | D) * Q(G | G')] / [P(G | D) * Q(G' | G)])\n",
    "            pass\n",
    "\n",
    "        # Generate a random number\n",
    "        u = np.random.uniform(0, 1)\n",
    "\n",
    "        # Accept or reject the proposed graph\n",
    "        if u < A: \n",
    "            G = G_prime\n",
    "\n",
    "    return G"
   ]
  },
  {
   "cell_type": "markdown",
   "metadata": {},
   "source": [
    "## Convergence Analysis"
   ]
  },
  {
   "cell_type": "code",
   "execution_count": null,
   "metadata": {},
   "outputs": [],
   "source": []
  }
 ],
 "metadata": {
  "language_info": {
   "name": "python"
  },
  "orig_nbformat": 4
 },
 "nbformat": 4,
 "nbformat_minor": 2
}
