{
 "cells": [
  {
   "attachments": {},
   "cell_type": "markdown",
   "metadata": {},
   "source": [
    "# 1. Probability Distributions in Tensorflow"
   ]
  },
  {
   "cell_type": "code",
   "execution_count": 1,
   "metadata": {},
   "outputs": [
    {
     "name": "stderr",
     "output_type": "stream",
     "text": [
      "2023-07-05 23:04:04.761031: I tensorflow/core/platform/cpu_feature_guard.cc:182] This TensorFlow binary is optimized to use available CPU instructions in performance-critical operations.\n",
      "To enable the following instructions: AVX2 FMA, in other operations, rebuild TensorFlow with the appropriate compiler flags.\n"
     ]
    },
    {
     "name": "stdout",
     "output_type": "stream",
     "text": [
      "TF version: 2.12.0\n",
      "TFP version: 0.20.1\n"
     ]
    }
   ],
   "source": [
    "import tensorflow as tf\n",
    "import tensorflow_probability as tfp\n",
    "tfd = tfp.distributions\n",
    "\n",
    "print(\"TF version:\", tf.__version__)\n",
    "print(\"TFP version:\", tfp.__version__)\n",
    "\n",
    "import matplotlib.pyplot as plt\n",
    "import numpy as np\n",
    "import seaborn as sns\n",
    "sns.set()\n",
    "tf.random.set_seed(123)\n",
    "\n",
    "%inline matplotlib"
   ]
  },
  {
   "attachments": {},
   "cell_type": "markdown",
   "metadata": {},
   "source": [
    "## Univariate distributions\n"
   ]
  },
  {
   "attachments": {},
   "cell_type": "markdown",
   "metadata": {},
   "source": [
    "### Normal Distribution"
   ]
  },
  {
   "cell_type": "code",
   "execution_count": 23,
   "metadata": {},
   "outputs": [
    {
     "name": "stdout",
     "output_type": "stream",
     "text": [
      "Normal Distribution object tfp.distributions.Normal(\"Normal\", batch_shape=[], event_shape=[], dtype=float32)\n",
      "Sampling one datapoint: -0.9603908658027649\n",
      "Sampling many datapoints: [ 0.18069503 -0.4223899  -0.8314601 ]\n",
      "Evaluating a standard normal distribution at 0.5: 0.3520653247833252\n",
      "Evaluating a standard log-normal distribution at 0.5: -1.0439385175704956\n"
     ]
    }
   ],
   "source": [
    "# Create a normal distribution from Tensorflow Distributions\n",
    "\n",
    "# event_shape captures the dimensionality of the random variable itself\n",
    "# batch_shape captures the dimensionality of the parameter(s) of the random variable\n",
    "normal = tfd.Normal(loc=0., scale=1.)\n",
    "print(f\"Normal Distribution object {normal}\")\n",
    "\n",
    "# we can sample from the distribution\n",
    "print(f\"Sampling one datapoint: {normal.sample()}\") # only one value is sampled\n",
    "\n",
    "# or we can make multiple samples at once\n",
    "print(f\"Sampling many datapoints: {normal.sample(3).numpy()}\")\n",
    "\n",
    "# for the of continuous random variables, the method prob() returns the probability density function (PDF)\n",
    "# here we are evaluating a standard normal distribution at 0.5\n",
    "print(f\"Evaluating a standard normal distribution at 0.5: {normal.prob(0.5)}\")\n",
    "print(f\"Evaluating a standard log-normal distribution at 0.5: {normal.log_prob(0.5)}\")\n"
   ]
  },
  {
   "attachments": {},
   "cell_type": "markdown",
   "metadata": {},
   "source": [
    "### Bernoulli Distribution"
   ]
  },
  {
   "cell_type": "code",
   "execution_count": 38,
   "metadata": {},
   "outputs": [
    {
     "name": "stdout",
     "output_type": "stream",
     "text": [
      "tfp.distributions.Bernoulli(\"Bernoulli\", batch_shape=[], event_shape=[], dtype=int32)\n",
      "tfp.distributions.Bernoulli(\"Bernoulli\", batch_shape=[], event_shape=[], dtype=int32)\n",
      "Sampling one datapoint: [1 1 0]\n",
      "Evaluating a Bernoulli distribution at 1: 0.6999374628067017\n",
      "Evaluating a Bernoulli distribution at 1: -0.3567643165588379\n",
      "tfp.distributions.Bernoulli(\"Bernoulli\", batch_shape=[2], event_shape=[], dtype=int32)\n",
      "Batch: (2,)\n",
      "Sampling datapoints: [[0 1]\n",
      " [1 1]\n",
      " [0 1]]\n",
      "Evaluating a Bernoulli distribution at 1: [0.4 0.5]\n",
      "Evaluating a Bernoulli distribution at 1: [-0.9162907 -0.6931472]\n"
     ]
    }
   ],
   "source": [
    "bernoulli = tfd.Bernoulli( probs=0.7 )\n",
    "print(bernoulli)\n",
    "\n",
    "# we can instatiate a Bernoulli distribution with a logit value\n",
    "bernoulli = tfd.Bernoulli( logits=0.847 )\n",
    "print(bernoulli)\n",
    "\n",
    "# we can sample from this distribution\n",
    "print(f\"Sampling one datapoint: {bernoulli.sample(3)}\") \n",
    "\n",
    "# we can evaluate the probability of a sample\n",
    "print(f\"Evaluating a Bernoulli distribution at 1: {bernoulli.prob(1)}\")\n",
    "\n",
    "# and the log probability of a sample\n",
    "print(f\"Evaluating a Bernoulli distribution at 1: {bernoulli.log_prob(1)}\")\n",
    "\n",
    "# one of the powerful features of TFP is that it can handle batches of distributions\n",
    "# the batch_shape is now 2. This object represents two independent Bernoulli distributions\n",
    "batched_bernoulli = tfd.Bernoulli( probs=[0.4, 0.5] )\n",
    "print(batched_bernoulli)\n",
    "print(f\"Batch: {batched_bernoulli.batch_shape}\")\n",
    "\n",
    "# sampling returns 3 independent samples in the form of a tensor in the rows as the number of samples and columns as the batch shape\n",
    "print(f\"Sampling datapoints: {batched_bernoulli.sample(3)}\")\n",
    "\n",
    "# we can also compute the probabilitu of the event value 1 fir each distribution\n",
    "print(f\"Evaluating a Bernoulli distribution at 1: {batched_bernoulli.prob([1, 1])}\")\n",
    "\n",
    "# likewise we can use the logprob() method\n",
    "print(f\"Evaluating a Bernoulli distribution at 1: {batched_bernoulli.log_prob([1, 1])}\")\n"
   ]
  }
 ],
 "metadata": {
  "kernelspec": {
   "display_name": "tensorflow",
   "language": "python",
   "name": "python3"
  },
  "language_info": {
   "codemirror_mode": {
    "name": "ipython",
    "version": 3
   },
   "file_extension": ".py",
   "mimetype": "text/x-python",
   "name": "python",
   "nbconvert_exporter": "python",
   "pygments_lexer": "ipython3",
   "version": "3.9.16"
  },
  "orig_nbformat": 4
 },
 "nbformat": 4,
 "nbformat_minor": 2
}
