{
 "cells": [
  {
   "cell_type": "markdown",
   "metadata": {},
   "source": [
    "# MCMC Convergence Analysis"
   ]
  },
  {
   "cell_type": "markdown",
   "metadata": {},
   "source": [
    "## Trace Plots\n",
    "\n",
    "Shows the history of a parameter value accross iterations of the chain. It shows where the chain is exploring. If the chain is stationary, it should not be showing any long-term trends. The average value for the chain should be roughly flat, and should not be wondering. The following example shows a trace plot for a chain that has converged.\n",
    "\n",
    "<img src=\"./imgs/MCMC_convergence.png\" width=500/>\n",
    "\n",
    "On the other hand, the following example shows a trace plot for a chain that has not converged. We are seeing long term trends here. If we were going to estimate the mean of the chain in the first 200 iterations, this would be completely different from the mean of the chain after 600 iterations. This means that you would need to simulate the chain for many, many iterations. \n",
    "\n",
    "<img src=\"./imgs/MCMC_no_convergence.png\" width=700/>"
   ]
  },
  {
   "cell_type": "markdown",
   "metadata": {},
   "source": [
    "## Autocorrelation\n",
    "\n",
    "One main difference between these twi chains is the autocorrelation. Autocorrelation is a number between -1 and 1 that measures how linearly dependent the current value of the chain is to past values (called lags).  We cam see and inspect the autocorrelation "
   ]
  },
  {
   "cell_type": "markdown",
   "metadata": {},
   "source": []
  },
  {
   "cell_type": "markdown",
   "metadata": {},
   "source": []
  },
  {
   "cell_type": "code",
   "execution_count": null,
   "metadata": {},
   "outputs": [],
   "source": []
  }
 ],
 "metadata": {
  "language_info": {
   "name": "python"
  },
  "orig_nbformat": 4
 },
 "nbformat": 4,
 "nbformat_minor": 2
}
